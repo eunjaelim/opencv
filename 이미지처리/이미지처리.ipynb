{
 "cells": [
  {
   "cell_type": "code",
   "execution_count": 1,
   "id": "f65f37d4-102e-4d1d-b8a5-f80c9b2af14b",
   "metadata": {},
   "outputs": [
    {
     "name": "stdout",
     "output_type": "stream",
     "text": [
      "Hello, OpenCV 4.10.0\n"
     ]
    }
   ],
   "source": [
    "import sys\n",
    "import cv2\n",
    "print('Hello, OpenCV', cv2.__version__)"
   ]
  },
  {
   "cell_type": "code",
   "execution_count": 3,
   "id": "62e35df7-0159-406f-a714-0cfcbc25ecfa",
   "metadata": {},
   "outputs": [],
   "source": [
    "img = cv2.imread('cat.bmp')"
   ]
  },
  {
   "cell_type": "code",
   "execution_count": null,
   "id": "ab6b156b-2c5b-409d-9438-42f471b2513a",
   "metadata": {},
   "outputs": [],
   "source": [
    "if img is None:\n",
    "    print(\"Fa\")"
   ]
  },
  {
   "cell_type": "code",
   "execution_count": 1,
   "id": "3d963e22-9156-4e68-8186-0af01cd86a4f",
   "metadata": {},
   "outputs": [],
   "source": [
    "import sys\n",
    "import glob\n",
    "import cv2\n",
    "# 이미지 파일을 모두 img_files 리스트에 추가\n",
    "img_files = glob.glob('.\\\\images\\\\*.jpg')\n",
    "if not img_files:\n",
    "    print(\"There are no jpg files in 'images' folder\")\n",
    "    sys.exit()\n",
    "    \n",
    "# 전체 화면으로 'image' 창 생성\n",
    "cv2.namedWindow('image', cv2.WINDOW_NORMAL)\n",
    "cv2.setWindowProperty('image', cv2.WND_PROP_FULLSCREEN, cv2.WINDOW_FULLSCREEN)\n",
    "# 무한 루프\n",
    "cnt = len(img_files)\n",
    "idx = 0\n",
    "while True:\n",
    "    img = cv2.imread(img_files[idx])\n",
    "    if img is None:\n",
    "        print('Image load failed!')\n",
    "        break\n",
    "    cv2.imshow('image', img)\n",
    "    if cv2.waitKey(2000) >= 0:\n",
    "        break\n",
    "    idx += 1\n",
    "    if idx >= cnt:\n",
    "        idx = 0\n",
    "cv2.destroyAllWindows()"
   ]
  },
  {
   "cell_type": "markdown",
   "id": "6b5ca2ce-ae1d-4eb1-9c4f-d9d5f3d0bf70",
   "metadata": {},
   "source": [
    "* 영상의 속성"
   ]
  },
  {
   "cell_type": "code",
   "execution_count": 9,
   "id": "d1295711-033d-4ab8-84e3-da082af4058f",
   "metadata": {},
   "outputs": [],
   "source": [
    "import sys\n",
    "import cv2\n",
    "# 영상 불러오기\n",
    "img1 = cv2.imread('./data/cat.bmp', cv2.IMREAD_GRAYSCALE)\n",
    "img2 = cv2.imread('./data/cat.bmp', cv2.IMREAD_COLOR)\n",
    "if img1 is None or img2 is None:\n",
    "    print('Image load failed!')\n",
    "    sys.exit()"
   ]
  },
  {
   "cell_type": "code",
   "execution_count": 11,
   "id": "51946758-e754-4d82-8e6b-c7d258016912",
   "metadata": {},
   "outputs": [
    {
     "name": "stdout",
     "output_type": "stream",
     "text": [
      "type(img1): <class 'numpy.ndarray'>\n",
      "img1.shape: (480, 640)\n",
      "img2.shape: (480, 640, 3)\n",
      "img1.dtype: uint8\n"
     ]
    }
   ],
   "source": [
    "# 영상의 속성 참조\n",
    "print('type(img1):', type(img1))\n",
    "print('img1.shape:', img1.shape)\n",
    "print('img2.shape:', img2.shape)\n",
    "print('img1.dtype:', img1.dtype)"
   ]
  },
  {
   "cell_type": "code",
   "execution_count": 13,
   "id": "67f78ea9-fdba-4194-99a1-8f6b24d17bec",
   "metadata": {},
   "outputs": [
    {
     "name": "stdout",
     "output_type": "stream",
     "text": [
      "img2 size: 640 x 480\n",
      "img1 is a grayscale image\n"
     ]
    }
   ],
   "source": [
    "# 영상의 크기 참조\n",
    "h, w = img2.shape[:2]\n",
    "print('img2 size: {} x {}'.format(w, h))\n",
    "if len(img1.shape) == 2:\n",
    "    print('img1 is a grayscale image')\n",
    "elif len(img1.shape) == 3:\n",
    "    print('img1 is a truecolor image')\n",
    "    \n",
    "cv2.imshow('img1', img1)\n",
    "cv2.imshow('img2', img2)\n",
    "cv2.waitKey()\n",
    "# 영상의 픽셀 값 참조\n",
    "for y in range(h):\n",
    "    for x in range(w):\n",
    "        img1[y, x] = 255\n",
    "        img2[y, x] = (0, 0, 255)        \n",
    "# img1[:,:] = 255\n",
    "# img2[:,:] = (0, 0, 255)\n",
    "cv2.imshow('img1', img1)\n",
    "cv2.imshow('img2', img2)\n",
    "cv2.waitKey()\n",
    "cv2.destroyAllWindows()"
   ]
  },
  {
   "cell_type": "code",
   "execution_count": 15,
   "id": "6c17f5e3-8c61-4444-8997-4610986a5b52",
   "metadata": {},
   "outputs": [],
   "source": [
    "import numpy as np\n",
    "import cv2\n",
    "\n",
    "# 새 영상 생성하기\n",
    "img1 = np.empty((240, 320), dtype=np.uint8)       # grayscale image\n",
    "img2 = np.zeros((240, 320, 3), dtype=np.uint8)    # color image\n",
    "img3 = np.ones((240, 320), dtype=np.uint8) * 255  # dark gray\n",
    "img4 = np.full((240, 320, 3), (0, 255, 255), dtype=np.uint8)  # yellow\n",
    "cv2.imshow('img1', img1)\n",
    "cv2.imshow('img2', img2)\n",
    "cv2.imshow('img3', img3)\n",
    "cv2.imshow('img4', img4)\n",
    "cv2.waitKey()\n",
    "cv2.destroyAllWindows()"
   ]
  },
  {
   "cell_type": "markdown",
   "id": "4376c5bf-389a-4a65-b91d-72286ee678a0",
   "metadata": {},
   "source": [
    "* 이미지 편집"
   ]
  },
  {
   "cell_type": "code",
   "execution_count": 26,
   "id": "99b49546-010b-4676-b324-81e600368224",
   "metadata": {},
   "outputs": [],
   "source": [
    "import numpy as np\n",
    "import cv2\n",
    "\n",
    "img1 = cv2.imread('./data/HappyFish.jpg')\n",
    "\n",
    "img2 = img1\n",
    "img3 = img1.copy()\n",
    "\n",
    "img1[:,:] = (0,255,255)\n",
    "cv2.imshow('img1',img1)\n",
    "cv2.imshow('img2',img2)\n",
    "cv2.imshow('img3',img3)\n",
    "cv2.waitKey()\n",
    "cv2.destroyAllWindows()"
   ]
  },
  {
   "cell_type": "code",
   "execution_count": 28,
   "id": "4a3a4c80-0fde-421a-8154-9cdf98f960c2",
   "metadata": {},
   "outputs": [],
   "source": [
    "import numpy as np\n",
    "import cv2\n",
    "img1 = cv2.imread('./data/HappyFish.jpg')\n",
    "img2 = img1[40:120, 30:150]  # numpy.ndarray의 슬라이싱\n",
    "img3 = img1[40:120, 30:150].copy()\n",
    "img2.fill(0)\n",
    "cv2.imshow('img1', img1)\n",
    "cv2.imshow('img2', img2)\n",
    "cv2.imshow('img3', img3)\n",
    "cv2.waitKey()\n",
    "cv2.destroyAllWindows()"
   ]
  },
  {
   "cell_type": "markdown",
   "id": "ada46051-9e7f-4dd7-a9e7-e870d2b89885",
   "metadata": {},
   "source": [
    "* 영상 합성(마스크 영상 활용)"
   ]
  },
  {
   "cell_type": "code",
   "execution_count": 33,
   "id": "a16ec646-dc68-4668-8d1c-f7dc49e6d5e4",
   "metadata": {},
   "outputs": [],
   "source": [
    "import sys\n",
    "import cv2\n",
    "# 마스크 영상을 이용한 영상 합성\n",
    "src = cv2.imread('./data/airplane.bmp', cv2.IMREAD_COLOR)\n",
    "mask = cv2.imread('./data/mask_plane.bmp', cv2.IMREAD_GRAYSCALE)\n",
    "dst = cv2.imread('./data/field.bmp', cv2.IMREAD_COLOR)\n",
    "if src is None or mask is None or dst is None:\n",
    "    print('Image load failed!')\n",
    "    sys.exit()\n",
    "cv2.copyTo(src, mask, dst)\n",
    "cv2.imshow('src', src)\n",
    "cv2.imshow('dst', dst)\n",
    "cv2.imshow('mask', mask)\n",
    "cv2.waitKey()\n",
    "cv2.destroyAllWindows()"
   ]
  },
  {
   "cell_type": "markdown",
   "id": "4d2e9fda-91bf-4dbf-b6a8-fc817ef8215d",
   "metadata": {},
   "source": [
    "* 동영상 합성(디졸브 + 밀어내기 기능)"
   ]
  },
  {
   "cell_type": "code",
   "execution_count": 36,
   "id": "bf196fe7-a0a4-4d22-a9a4-d15967b963da",
   "metadata": {},
   "outputs": [],
   "source": [
    "import sys\n",
    "import numpy as np\n",
    "import cv2\n",
    "# 두 개의 동영상을 열어서 cap1, cap2로 지정\n",
    "cap1 = cv2.VideoCapture('./data/video1.mp4')\n",
    "cap2 = cv2.VideoCapture('./data/video2.mp4')\n",
    "if not cap1.isOpened() or not cap2.isOpened():\n",
    "    print('video open failed!')\n",
    "    sys.exit()"
   ]
  },
  {
   "cell_type": "code",
   "execution_count": 42,
   "id": "30afc846-3e25-41f2-9ba5-aa29e762f2c8",
   "metadata": {},
   "outputs": [
    {
     "name": "stdout",
     "output_type": "stream",
     "text": [
      "frame_cnt1: 85\n",
      "frame_cnt2: 121\n",
      "FPS: 24.0\n"
     ]
    }
   ],
   "source": [
    "# 두 동영상의 크기, FPS는 같다고 가정함\n",
    "frame_cnt1 = round(cap1.get(cv2.CAP_PROP_FRAME_COUNT)) # 두 번째 동영상의 총 프레임 수\n",
    "frame_cnt2 = round(cap2.get(cv2.CAP_PROP_FRAME_COUNT)) # 첫 번째 동영상의 총 프레임 수 \n",
    "fps = cap1.get(cv2.CAP_PROP_FPS)  # 동영상의 초당 프레임 수\n",
    "effect_frames = int(fps * 2)      # 2초에 해당하는 프레임 수\n",
    "print('frame_cnt1:', frame_cnt1)\n",
    "print('frame_cnt2:', frame_cnt2)\n",
    "print('FPS:', fps)"
   ]
  },
  {
   "cell_type": "code",
   "execution_count": 56,
   "id": "d5929948-20a3-496d-a126-4a60510a09a6",
   "metadata": {},
   "outputs": [],
   "source": [
    "delay = int(1000 / fps)   # 프레임 간 지연 시간을 밀리초 단위로 계산, 한 프레임을 보여주는데 걸리는 시간      \n",
    "w = round(cap1.get(cv2.CAP_PROP_FRAME_WIDTH))\n",
    "h = round(cap1.get(cv2.CAP_PROP_FRAME_HEIGHT))\n",
    "fourcc = cv2.VideoWriter_fourcc(*'DIVX')\n",
    "# 출력 동영상 객체 생성\n",
    "out = cv2.VideoWriter('./data/output.avi', fourcc, fps, (w, h))"
   ]
  },
  {
   "cell_type": "code",
   "execution_count": 59,
   "id": "421c5d00-2fd7-4b75-98fa-df74fe9995b7",
   "metadata": {},
   "outputs": [
    {
     "name": "stdout",
     "output_type": "stream",
     "text": [
      "frame read error!\n"
     ]
    },
    {
     "ename": "SystemExit",
     "evalue": "",
     "output_type": "error",
     "traceback": [
      "An exception has occurred, use %tb to see the full traceback.\n",
      "\u001b[1;31mSystemExit\u001b[0m\n"
     ]
    }
   ],
   "source": [
    "# 1번 동영상 복사\n",
    "for i in range(frame_cnt1 - effect_frames):\n",
    "    ret1, frame1 = cap1.read()\n",
    "    if not ret1:\n",
    "        print('frame read error!')\n",
    "        sys.exit()\n",
    "    out.write(frame1)\n",
    "    print('.', end='')\n",
    "    cv2.imshow('output', frame1)\n",
    "    cv2.waitKey(delay)\n",
    "# 2번 동영상을 복사\n",
    "for i in range(effect_frames, frame_cnt2):\n",
    "    ret2, frame2 = cap2.read()\n",
    "    if not ret2:\n",
    "        print('frame read error!')\n",
    "        sys.exit()\n",
    "    out.write(frame2)\n",
    "    print('.', end='')\n",
    "    cv2.imshow('output', frame2)\n",
    "    cv2.waitKey(delay)\n",
    "print('\\noutput.avi file is successfully generated!')\n",
    "cap1.release()\n",
    "cap2.release()\n",
    "out.release()\n",
    "cv2.destroyAllWindows()"
   ]
  },
  {
   "cell_type": "code",
   "execution_count": null,
   "id": "e0540ffb-8e73-4b42-89fd-7420a667c23e",
   "metadata": {},
   "outputs": [],
   "source": []
  }
 ],
 "metadata": {
  "kernelspec": {
   "display_name": "Python 3 (ipykernel)",
   "language": "python",
   "name": "python3"
  },
  "language_info": {
   "codemirror_mode": {
    "name": "ipython",
    "version": 3
   },
   "file_extension": ".py",
   "mimetype": "text/x-python",
   "name": "python",
   "nbconvert_exporter": "python",
   "pygments_lexer": "ipython3",
   "version": "3.12.4"
  }
 },
 "nbformat": 4,
 "nbformat_minor": 5
}
